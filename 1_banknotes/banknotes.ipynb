{
 "cells": [
  {
   "cell_type": "markdown",
   "id": "1d938728-b3b0-44e0-9522-2108451bbfef",
   "metadata": {},
   "source": [
    "Logistic Regression model to distinguish between forged notes and genuine bank notes."
   ]
  },
  {
   "cell_type": "markdown",
   "id": "63090f0c-d47c-4c21-99e1-d81ecf350469",
   "metadata": {},
   "source": [
    "# install libraries"
   ]
  },
  {
   "cell_type": "markdown",
   "id": "54a59f29-c842-4756-8c69-db95cbbaa95d",
   "metadata": {},
   "source": [
    "# load dataset"
   ]
  },
  {
   "cell_type": "code",
   "execution_count": 1,
   "id": "6713e13f-e5be-42ee-95c4-d56a982d0404",
   "metadata": {},
   "outputs": [],
   "source": [
    "import pandas as pd"
   ]
  },
  {
   "cell_type": "code",
   "execution_count": 6,
   "id": "1a61445d-beef-47d8-b4c1-c6c13b942745",
   "metadata": {},
   "outputs": [
    {
     "data": {
      "text/html": [
       "<div>\n",
       "<style scoped>\n",
       "    .dataframe tbody tr th:only-of-type {\n",
       "        vertical-align: middle;\n",
       "    }\n",
       "\n",
       "    .dataframe tbody tr th {\n",
       "        vertical-align: top;\n",
       "    }\n",
       "\n",
       "    .dataframe thead th {\n",
       "        text-align: right;\n",
       "    }\n",
       "</style>\n",
       "<table border=\"1\" class=\"dataframe\">\n",
       "  <thead>\n",
       "    <tr style=\"text-align: right;\">\n",
       "      <th></th>\n",
       "      <th>0</th>\n",
       "      <th>1</th>\n",
       "      <th>2</th>\n",
       "      <th>3</th>\n",
       "      <th>4</th>\n",
       "    </tr>\n",
       "  </thead>\n",
       "  <tbody>\n",
       "    <tr>\n",
       "      <th>0</th>\n",
       "      <td>3.6216</td>\n",
       "      <td>8.6661</td>\n",
       "      <td>-2.8073</td>\n",
       "      <td>-0.44699</td>\n",
       "      <td>0</td>\n",
       "    </tr>\n",
       "    <tr>\n",
       "      <th>1</th>\n",
       "      <td>4.5459</td>\n",
       "      <td>8.1674</td>\n",
       "      <td>-2.4586</td>\n",
       "      <td>-1.46210</td>\n",
       "      <td>0</td>\n",
       "    </tr>\n",
       "    <tr>\n",
       "      <th>2</th>\n",
       "      <td>3.8660</td>\n",
       "      <td>-2.6383</td>\n",
       "      <td>1.9242</td>\n",
       "      <td>0.10645</td>\n",
       "      <td>0</td>\n",
       "    </tr>\n",
       "  </tbody>\n",
       "</table>\n",
       "</div>"
      ],
      "text/plain": [
       "        0       1       2        3  4\n",
       "0  3.6216  8.6661 -2.8073 -0.44699  0\n",
       "1  4.5459  8.1674 -2.4586 -1.46210  0\n",
       "2  3.8660 -2.6383  1.9242  0.10645  0"
      ]
     },
     "execution_count": 6,
     "metadata": {},
     "output_type": "execute_result"
    }
   ],
   "source": [
    "df = pd.read_csv('data_banknote_authentication.txt', header=None)\n",
    "df.head(3)"
   ]
  },
  {
   "cell_type": "markdown",
   "id": "6046a25c-c479-4c66-bbb2-64b6f35fcce2",
   "metadata": {},
   "source": [
    "Check the distribution of labels"
   ]
  },
  {
   "cell_type": "code",
   "execution_count": 8,
   "id": "cbcc274f-8130-4296-8e3d-10a2a9ceb7bb",
   "metadata": {},
   "outputs": [
    {
     "data": {
      "text/plain": [
       "array([762, 610])"
      ]
     },
     "execution_count": 8,
     "metadata": {},
     "output_type": "execute_result"
    }
   ],
   "source": [
    "import numpy as np\n",
    "\n",
    "np.bincount(df[4])"
   ]
  },
  {
   "cell_type": "markdown",
   "id": "9776c94b-6c63-463d-b6ce-2b7c213e994e",
   "metadata": {},
   "source": [
    "Define features and labels"
   ]
  },
  {
   "cell_type": "code",
   "execution_count": 12,
   "id": "03509154-50b0-4058-ad82-9870cbcfde3c",
   "metadata": {},
   "outputs": [],
   "source": [
    "X_features = df[[0, 1, 2, 3]].values\n",
    "y_labels = df[4].values"
   ]
  },
  {
   "cell_type": "code",
   "execution_count": 13,
   "id": "eabde2f7-8160-4f9b-ad1d-a7df180808d5",
   "metadata": {},
   "outputs": [
    {
     "data": {
      "text/plain": [
       "array([0, 0, 0, ..., 1, 1, 1])"
      ]
     },
     "execution_count": 13,
     "metadata": {},
     "output_type": "execute_result"
    }
   ],
   "source": [
    "y_labels"
   ]
  },
  {
   "cell_type": "code",
   "execution_count": 14,
   "id": "a835fcde-49fc-404f-954b-d6869ddfc376",
   "metadata": {},
   "outputs": [
    {
     "data": {
      "text/plain": [
       "array([[  3.6216 ,   8.6661 ,  -2.8073 ,  -0.44699],\n",
       "       [  4.5459 ,   8.1674 ,  -2.4586 ,  -1.4621 ],\n",
       "       [  3.866  ,  -2.6383 ,   1.9242 ,   0.10645],\n",
       "       ...,\n",
       "       [ -3.7503 , -13.4586 ,  17.5932 ,  -2.7771 ],\n",
       "       [ -3.5637 ,  -8.3827 ,  12.393  ,  -1.2823 ],\n",
       "       [ -2.5419 ,  -0.65804,   2.6842 ,   1.1952 ]])"
      ]
     },
     "execution_count": 14,
     "metadata": {},
     "output_type": "execute_result"
    }
   ],
   "source": [
    "X_features"
   ]
  },
  {
   "cell_type": "code",
   "execution_count": 15,
   "id": "9c55bc4b-cdc1-4699-8be9-902e23606c9f",
   "metadata": {},
   "outputs": [
    {
     "data": {
      "text/plain": [
       "(1372, 4)"
      ]
     },
     "execution_count": 15,
     "metadata": {},
     "output_type": "execute_result"
    }
   ],
   "source": [
    "X_features.shape"
   ]
  },
  {
   "cell_type": "code",
   "execution_count": 16,
   "id": "be2ee8ed-419a-494e-9afd-809e569da11a",
   "metadata": {},
   "outputs": [
    {
     "data": {
      "text/plain": [
       "(1372,)"
      ]
     },
     "execution_count": 16,
     "metadata": {},
     "output_type": "execute_result"
    }
   ],
   "source": [
    "y_labels.shape"
   ]
  },
  {
   "cell_type": "markdown",
   "id": "723f18c1-bffe-4e03-9006-51ed71a66be1",
   "metadata": {},
   "source": [
    "# split data into 80% train, 20% val"
   ]
  },
  {
   "cell_type": "code",
   "execution_count": 20,
   "id": "cfac6f5b-95c2-4149-8021-6970e839bcdd",
   "metadata": {},
   "outputs": [
    {
     "data": {
      "text/plain": [
       "1097"
      ]
     },
     "execution_count": 20,
     "metadata": {},
     "output_type": "execute_result"
    }
   ],
   "source": [
    "train_size = int(X_features.shape[0]*0.80)\n",
    "train_size"
   ]
  },
  {
   "cell_type": "code",
   "execution_count": 22,
   "id": "bfa799d4-f790-4286-abe4-9e9bfdaec07e",
   "metadata": {},
   "outputs": [
    {
     "data": {
      "text/plain": [
       "275"
      ]
     },
     "execution_count": 22,
     "metadata": {},
     "output_type": "execute_result"
    }
   ],
   "source": [
    "val_size = X_features.shape[0] - train_size\n",
    "val_size"
   ]
  },
  {
   "cell_type": "markdown",
   "id": "f14abcca-16d8-48cc-955e-793bcbc83c56",
   "metadata": {},
   "source": [
    "# define a DataLoader"
   ]
  },
  {
   "cell_type": "code",
   "execution_count": 23,
   "id": "8719910d-5483-4ebe-87c2-224bfc7df760",
   "metadata": {},
   "outputs": [],
   "source": [
    "from torch.utils.data import Dataset, DataLoader\n",
    "\n",
    "\n",
    "class MyDataset(Dataset):\n",
    "    def __init__(self, X, y):\n",
    "\n",
    "        self.features = torch.tensor(X, dtype=torch.float32)\n",
    "        self.labels = torch.tensor(y, dtype=torch.float32)\n",
    "\n",
    "    def __getitem__(self, index):\n",
    "        x = self.features[index]\n",
    "        y = self.labels[index]        \n",
    "        return x, y\n",
    "\n",
    "    def __len__(self):\n",
    "        return self.labels.shape[0]"
   ]
  },
  {
   "cell_type": "markdown",
   "id": "748ffea2-e7b2-4351-b4c6-0f7dd56a5129",
   "metadata": {},
   "source": [
    "# generate training and val set"
   ]
  },
  {
   "cell_type": "code",
   "execution_count": 28,
   "id": "44e55910-985f-4443-b8d2-eca06542102a",
   "metadata": {},
   "outputs": [],
   "source": [
    "import torch\n",
    "\n",
    "dataset = MyDataset(X_features, y_labels)\n",
    "\n",
    "train_set, val_set = torch.utils.data.random_split(dataset, (train_size, val_size))\n",
    "\n",
    "train_loader = DataLoader(\n",
    "    dataset=train_set,\n",
    "    batch_size = 12,\n",
    "    shuffle=True\n",
    ")\n",
    "\n",
    "val_loader = DataLoader(\n",
    "    dataset=val_set,\n",
    "    batch_size=10,\n",
    "    shuffle=False,\n",
    ")"
   ]
  },
  {
   "cell_type": "markdown",
   "id": "15c8f5be-e8e6-4b48-86ff-42370eb4406e",
   "metadata": {},
   "source": [
    "# implement the model"
   ]
  },
  {
   "cell_type": "code",
   "execution_count": 30,
   "id": "4a844721-870f-4fb2-aa43-ef305c13edcd",
   "metadata": {},
   "outputs": [],
   "source": [
    "import torch\n",
    "\n",
    "class LogisticRegression(torch.nn.Module):\n",
    "\n",
    "    def __init__(self, num_features):\n",
    "        super().__init__()\n",
    "        self.linear = torch.nn.Linear(num_features, 1)\n",
    "\n",
    "    def forward(self, x):\n",
    "        logits = self.linear(x)\n",
    "        probas = torch.sigmoid(logits)\n",
    "        return probas"
   ]
  },
  {
   "cell_type": "markdown",
   "id": "63c7f8fc-d000-48f4-aa9f-e8adc9208c7a",
   "metadata": {},
   "source": [
    "# training"
   ]
  },
  {
   "cell_type": "code",
   "execution_count": 35,
   "id": "3c1f9553-658d-40f5-a3ab-f564bf8feee3",
   "metadata": {
    "scrolled": true
   },
   "outputs": [
    {
     "name": "stdout",
     "output_type": "stream",
     "text": [
      "Epoch: 001/050 | Batch 000/092 | Loss: 1.03\n",
      "Epoch: 001/050 | Batch 020/092 | Loss: 0.57\n",
      "Epoch: 001/050 | Batch 040/092 | Loss: 0.64\n",
      "Epoch: 001/050 | Batch 060/092 | Loss: 0.39\n",
      "Epoch: 001/050 | Batch 080/092 | Loss: 0.37\n",
      "Epoch: 002/050 | Batch 000/092 | Loss: 0.57\n",
      "Epoch: 002/050 | Batch 020/092 | Loss: 0.28\n",
      "Epoch: 002/050 | Batch 040/092 | Loss: 0.18\n",
      "Epoch: 002/050 | Batch 060/092 | Loss: 0.24\n",
      "Epoch: 002/050 | Batch 080/092 | Loss: 0.14\n",
      "Epoch: 003/050 | Batch 000/092 | Loss: 0.49\n",
      "Epoch: 003/050 | Batch 020/092 | Loss: 0.25\n",
      "Epoch: 003/050 | Batch 040/092 | Loss: 0.31\n",
      "Epoch: 003/050 | Batch 060/092 | Loss: 0.12\n",
      "Epoch: 003/050 | Batch 080/092 | Loss: 0.36\n",
      "Epoch: 004/050 | Batch 000/092 | Loss: 0.29\n",
      "Epoch: 004/050 | Batch 020/092 | Loss: 0.31\n",
      "Epoch: 004/050 | Batch 040/092 | Loss: 0.24\n",
      "Epoch: 004/050 | Batch 060/092 | Loss: 0.26\n",
      "Epoch: 004/050 | Batch 080/092 | Loss: 0.28\n",
      "Epoch: 005/050 | Batch 000/092 | Loss: 0.32\n",
      "Epoch: 005/050 | Batch 020/092 | Loss: 0.15\n",
      "Epoch: 005/050 | Batch 040/092 | Loss: 0.12\n",
      "Epoch: 005/050 | Batch 060/092 | Loss: 0.20\n",
      "Epoch: 005/050 | Batch 080/092 | Loss: 0.09\n",
      "Epoch: 006/050 | Batch 000/092 | Loss: 0.15\n",
      "Epoch: 006/050 | Batch 020/092 | Loss: 0.20\n",
      "Epoch: 006/050 | Batch 040/092 | Loss: 0.21\n",
      "Epoch: 006/050 | Batch 060/092 | Loss: 0.11\n",
      "Epoch: 006/050 | Batch 080/092 | Loss: 0.16\n",
      "Epoch: 007/050 | Batch 000/092 | Loss: 0.20\n",
      "Epoch: 007/050 | Batch 020/092 | Loss: 0.09\n",
      "Epoch: 007/050 | Batch 040/092 | Loss: 0.27\n",
      "Epoch: 007/050 | Batch 060/092 | Loss: 0.05\n",
      "Epoch: 007/050 | Batch 080/092 | Loss: 0.31\n",
      "Epoch: 008/050 | Batch 000/092 | Loss: 0.11\n",
      "Epoch: 008/050 | Batch 020/092 | Loss: 0.37\n",
      "Epoch: 008/050 | Batch 040/092 | Loss: 0.19\n",
      "Epoch: 008/050 | Batch 060/092 | Loss: 0.11\n",
      "Epoch: 008/050 | Batch 080/092 | Loss: 0.11\n",
      "Epoch: 009/050 | Batch 000/092 | Loss: 0.20\n",
      "Epoch: 009/050 | Batch 020/092 | Loss: 0.07\n",
      "Epoch: 009/050 | Batch 040/092 | Loss: 0.19\n",
      "Epoch: 009/050 | Batch 060/092 | Loss: 0.22\n",
      "Epoch: 009/050 | Batch 080/092 | Loss: 0.14\n",
      "Epoch: 010/050 | Batch 000/092 | Loss: 0.07\n",
      "Epoch: 010/050 | Batch 020/092 | Loss: 0.08\n",
      "Epoch: 010/050 | Batch 040/092 | Loss: 0.10\n",
      "Epoch: 010/050 | Batch 060/092 | Loss: 0.04\n",
      "Epoch: 010/050 | Batch 080/092 | Loss: 0.17\n",
      "Epoch: 011/050 | Batch 000/092 | Loss: 0.09\n",
      "Epoch: 011/050 | Batch 020/092 | Loss: 0.16\n",
      "Epoch: 011/050 | Batch 040/092 | Loss: 0.09\n",
      "Epoch: 011/050 | Batch 060/092 | Loss: 0.19\n",
      "Epoch: 011/050 | Batch 080/092 | Loss: 0.11\n",
      "Epoch: 012/050 | Batch 000/092 | Loss: 0.03\n",
      "Epoch: 012/050 | Batch 020/092 | Loss: 0.13\n",
      "Epoch: 012/050 | Batch 040/092 | Loss: 0.18\n",
      "Epoch: 012/050 | Batch 060/092 | Loss: 0.04\n",
      "Epoch: 012/050 | Batch 080/092 | Loss: 0.11\n",
      "Epoch: 013/050 | Batch 000/092 | Loss: 0.14\n",
      "Epoch: 013/050 | Batch 020/092 | Loss: 0.11\n",
      "Epoch: 013/050 | Batch 040/092 | Loss: 0.08\n",
      "Epoch: 013/050 | Batch 060/092 | Loss: 0.05\n",
      "Epoch: 013/050 | Batch 080/092 | Loss: 0.06\n",
      "Epoch: 014/050 | Batch 000/092 | Loss: 0.06\n",
      "Epoch: 014/050 | Batch 020/092 | Loss: 0.07\n",
      "Epoch: 014/050 | Batch 040/092 | Loss: 0.01\n",
      "Epoch: 014/050 | Batch 060/092 | Loss: 0.13\n",
      "Epoch: 014/050 | Batch 080/092 | Loss: 0.08\n",
      "Epoch: 015/050 | Batch 000/092 | Loss: 0.11\n",
      "Epoch: 015/050 | Batch 020/092 | Loss: 0.11\n",
      "Epoch: 015/050 | Batch 040/092 | Loss: 0.05\n",
      "Epoch: 015/050 | Batch 060/092 | Loss: 0.23\n",
      "Epoch: 015/050 | Batch 080/092 | Loss: 0.10\n",
      "Epoch: 016/050 | Batch 000/092 | Loss: 0.02\n",
      "Epoch: 016/050 | Batch 020/092 | Loss: 0.20\n",
      "Epoch: 016/050 | Batch 040/092 | Loss: 0.03\n",
      "Epoch: 016/050 | Batch 060/092 | Loss: 0.17\n",
      "Epoch: 016/050 | Batch 080/092 | Loss: 0.10\n",
      "Epoch: 017/050 | Batch 000/092 | Loss: 0.05\n",
      "Epoch: 017/050 | Batch 020/092 | Loss: 0.03\n",
      "Epoch: 017/050 | Batch 040/092 | Loss: 0.10\n",
      "Epoch: 017/050 | Batch 060/092 | Loss: 0.11\n",
      "Epoch: 017/050 | Batch 080/092 | Loss: 0.12\n",
      "Epoch: 018/050 | Batch 000/092 | Loss: 0.11\n",
      "Epoch: 018/050 | Batch 020/092 | Loss: 0.16\n",
      "Epoch: 018/050 | Batch 040/092 | Loss: 0.12\n",
      "Epoch: 018/050 | Batch 060/092 | Loss: 0.08\n",
      "Epoch: 018/050 | Batch 080/092 | Loss: 0.09\n",
      "Epoch: 019/050 | Batch 000/092 | Loss: 0.03\n",
      "Epoch: 019/050 | Batch 020/092 | Loss: 0.06\n",
      "Epoch: 019/050 | Batch 040/092 | Loss: 0.24\n",
      "Epoch: 019/050 | Batch 060/092 | Loss: 0.08\n",
      "Epoch: 019/050 | Batch 080/092 | Loss: 0.03\n",
      "Epoch: 020/050 | Batch 000/092 | Loss: 0.06\n",
      "Epoch: 020/050 | Batch 020/092 | Loss: 0.07\n",
      "Epoch: 020/050 | Batch 040/092 | Loss: 0.07\n",
      "Epoch: 020/050 | Batch 060/092 | Loss: 0.03\n",
      "Epoch: 020/050 | Batch 080/092 | Loss: 0.08\n",
      "Epoch: 021/050 | Batch 000/092 | Loss: 0.12\n",
      "Epoch: 021/050 | Batch 020/092 | Loss: 0.09\n",
      "Epoch: 021/050 | Batch 040/092 | Loss: 0.17\n",
      "Epoch: 021/050 | Batch 060/092 | Loss: 0.13\n",
      "Epoch: 021/050 | Batch 080/092 | Loss: 0.04\n",
      "Epoch: 022/050 | Batch 000/092 | Loss: 0.05\n",
      "Epoch: 022/050 | Batch 020/092 | Loss: 0.19\n",
      "Epoch: 022/050 | Batch 040/092 | Loss: 0.11\n",
      "Epoch: 022/050 | Batch 060/092 | Loss: 0.07\n",
      "Epoch: 022/050 | Batch 080/092 | Loss: 0.04\n",
      "Epoch: 023/050 | Batch 000/092 | Loss: 0.04\n",
      "Epoch: 023/050 | Batch 020/092 | Loss: 0.02\n",
      "Epoch: 023/050 | Batch 040/092 | Loss: 0.02\n",
      "Epoch: 023/050 | Batch 060/092 | Loss: 0.12\n",
      "Epoch: 023/050 | Batch 080/092 | Loss: 0.01\n",
      "Epoch: 024/050 | Batch 000/092 | Loss: 0.05\n",
      "Epoch: 024/050 | Batch 020/092 | Loss: 0.13\n",
      "Epoch: 024/050 | Batch 040/092 | Loss: 0.10\n",
      "Epoch: 024/050 | Batch 060/092 | Loss: 0.15\n",
      "Epoch: 024/050 | Batch 080/092 | Loss: 0.17\n",
      "Epoch: 025/050 | Batch 000/092 | Loss: 0.04\n",
      "Epoch: 025/050 | Batch 020/092 | Loss: 0.17\n",
      "Epoch: 025/050 | Batch 040/092 | Loss: 0.03\n",
      "Epoch: 025/050 | Batch 060/092 | Loss: 0.11\n",
      "Epoch: 025/050 | Batch 080/092 | Loss: 0.06\n",
      "Epoch: 026/050 | Batch 000/092 | Loss: 0.08\n",
      "Epoch: 026/050 | Batch 020/092 | Loss: 0.06\n",
      "Epoch: 026/050 | Batch 040/092 | Loss: 0.02\n",
      "Epoch: 026/050 | Batch 060/092 | Loss: 0.15\n",
      "Epoch: 026/050 | Batch 080/092 | Loss: 0.03\n",
      "Epoch: 027/050 | Batch 000/092 | Loss: 0.07\n",
      "Epoch: 027/050 | Batch 020/092 | Loss: 0.14\n",
      "Epoch: 027/050 | Batch 040/092 | Loss: 0.07\n",
      "Epoch: 027/050 | Batch 060/092 | Loss: 0.01\n",
      "Epoch: 027/050 | Batch 080/092 | Loss: 0.04\n",
      "Epoch: 028/050 | Batch 000/092 | Loss: 0.08\n",
      "Epoch: 028/050 | Batch 020/092 | Loss: 0.04\n",
      "Epoch: 028/050 | Batch 040/092 | Loss: 0.09\n",
      "Epoch: 028/050 | Batch 060/092 | Loss: 0.04\n",
      "Epoch: 028/050 | Batch 080/092 | Loss: 0.03\n",
      "Epoch: 029/050 | Batch 000/092 | Loss: 0.06\n",
      "Epoch: 029/050 | Batch 020/092 | Loss: 0.21\n",
      "Epoch: 029/050 | Batch 040/092 | Loss: 0.12\n",
      "Epoch: 029/050 | Batch 060/092 | Loss: 0.01\n",
      "Epoch: 029/050 | Batch 080/092 | Loss: 0.09\n",
      "Epoch: 030/050 | Batch 000/092 | Loss: 0.13\n",
      "Epoch: 030/050 | Batch 020/092 | Loss: 0.23\n",
      "Epoch: 030/050 | Batch 040/092 | Loss: 0.08\n",
      "Epoch: 030/050 | Batch 060/092 | Loss: 0.04\n",
      "Epoch: 030/050 | Batch 080/092 | Loss: 0.03\n",
      "Epoch: 031/050 | Batch 000/092 | Loss: 0.04\n",
      "Epoch: 031/050 | Batch 020/092 | Loss: 0.04\n",
      "Epoch: 031/050 | Batch 040/092 | Loss: 0.06\n",
      "Epoch: 031/050 | Batch 060/092 | Loss: 0.07\n",
      "Epoch: 031/050 | Batch 080/092 | Loss: 0.05\n",
      "Epoch: 032/050 | Batch 000/092 | Loss: 0.04\n",
      "Epoch: 032/050 | Batch 020/092 | Loss: 0.04\n",
      "Epoch: 032/050 | Batch 040/092 | Loss: 0.17\n",
      "Epoch: 032/050 | Batch 060/092 | Loss: 0.09\n",
      "Epoch: 032/050 | Batch 080/092 | Loss: 0.03\n",
      "Epoch: 033/050 | Batch 000/092 | Loss: 0.04\n",
      "Epoch: 033/050 | Batch 020/092 | Loss: 0.01\n",
      "Epoch: 033/050 | Batch 040/092 | Loss: 0.05\n",
      "Epoch: 033/050 | Batch 060/092 | Loss: 0.03\n",
      "Epoch: 033/050 | Batch 080/092 | Loss: 0.19\n",
      "Epoch: 034/050 | Batch 000/092 | Loss: 0.01\n",
      "Epoch: 034/050 | Batch 020/092 | Loss: 0.03\n",
      "Epoch: 034/050 | Batch 040/092 | Loss: 0.03\n",
      "Epoch: 034/050 | Batch 060/092 | Loss: 0.21\n",
      "Epoch: 034/050 | Batch 080/092 | Loss: 0.09\n",
      "Epoch: 035/050 | Batch 000/092 | Loss: 0.02\n",
      "Epoch: 035/050 | Batch 020/092 | Loss: 0.04\n",
      "Epoch: 035/050 | Batch 040/092 | Loss: 0.06\n",
      "Epoch: 035/050 | Batch 060/092 | Loss: 0.07\n",
      "Epoch: 035/050 | Batch 080/092 | Loss: 0.05\n",
      "Epoch: 036/050 | Batch 000/092 | Loss: 0.04\n",
      "Epoch: 036/050 | Batch 020/092 | Loss: 0.01\n",
      "Epoch: 036/050 | Batch 040/092 | Loss: 0.06\n",
      "Epoch: 036/050 | Batch 060/092 | Loss: 0.02\n",
      "Epoch: 036/050 | Batch 080/092 | Loss: 0.10\n",
      "Epoch: 037/050 | Batch 000/092 | Loss: 0.05\n",
      "Epoch: 037/050 | Batch 020/092 | Loss: 0.06\n",
      "Epoch: 037/050 | Batch 040/092 | Loss: 0.06\n",
      "Epoch: 037/050 | Batch 060/092 | Loss: 0.05\n",
      "Epoch: 037/050 | Batch 080/092 | Loss: 0.02\n",
      "Epoch: 038/050 | Batch 000/092 | Loss: 0.01\n",
      "Epoch: 038/050 | Batch 020/092 | Loss: 0.20\n",
      "Epoch: 038/050 | Batch 040/092 | Loss: 0.02\n",
      "Epoch: 038/050 | Batch 060/092 | Loss: 0.04\n",
      "Epoch: 038/050 | Batch 080/092 | Loss: 0.10\n",
      "Epoch: 039/050 | Batch 000/092 | Loss: 0.08\n",
      "Epoch: 039/050 | Batch 020/092 | Loss: 0.02\n",
      "Epoch: 039/050 | Batch 040/092 | Loss: 0.02\n",
      "Epoch: 039/050 | Batch 060/092 | Loss: 0.05\n",
      "Epoch: 039/050 | Batch 080/092 | Loss: 0.04\n",
      "Epoch: 040/050 | Batch 000/092 | Loss: 0.06\n",
      "Epoch: 040/050 | Batch 020/092 | Loss: 0.05\n",
      "Epoch: 040/050 | Batch 040/092 | Loss: 0.13\n",
      "Epoch: 040/050 | Batch 060/092 | Loss: 0.01\n",
      "Epoch: 040/050 | Batch 080/092 | Loss: 0.03\n",
      "Epoch: 041/050 | Batch 000/092 | Loss: 0.09\n",
      "Epoch: 041/050 | Batch 020/092 | Loss: 0.14\n",
      "Epoch: 041/050 | Batch 040/092 | Loss: 0.04\n",
      "Epoch: 041/050 | Batch 060/092 | Loss: 0.13\n",
      "Epoch: 041/050 | Batch 080/092 | Loss: 0.06\n",
      "Epoch: 042/050 | Batch 000/092 | Loss: 0.07\n",
      "Epoch: 042/050 | Batch 020/092 | Loss: 0.08\n",
      "Epoch: 042/050 | Batch 040/092 | Loss: 0.11\n",
      "Epoch: 042/050 | Batch 060/092 | Loss: 0.04\n",
      "Epoch: 042/050 | Batch 080/092 | Loss: 0.05\n",
      "Epoch: 043/050 | Batch 000/092 | Loss: 0.11\n",
      "Epoch: 043/050 | Batch 020/092 | Loss: 0.05\n",
      "Epoch: 043/050 | Batch 040/092 | Loss: 0.04\n",
      "Epoch: 043/050 | Batch 060/092 | Loss: 0.09\n",
      "Epoch: 043/050 | Batch 080/092 | Loss: 0.05\n",
      "Epoch: 044/050 | Batch 000/092 | Loss: 0.17\n",
      "Epoch: 044/050 | Batch 020/092 | Loss: 0.12\n",
      "Epoch: 044/050 | Batch 040/092 | Loss: 0.10\n",
      "Epoch: 044/050 | Batch 060/092 | Loss: 0.12\n",
      "Epoch: 044/050 | Batch 080/092 | Loss: 0.17\n",
      "Epoch: 045/050 | Batch 000/092 | Loss: 0.03\n",
      "Epoch: 045/050 | Batch 020/092 | Loss: 0.08\n",
      "Epoch: 045/050 | Batch 040/092 | Loss: 0.04\n",
      "Epoch: 045/050 | Batch 060/092 | Loss: 0.06\n",
      "Epoch: 045/050 | Batch 080/092 | Loss: 0.21\n",
      "Epoch: 046/050 | Batch 000/092 | Loss: 0.02\n",
      "Epoch: 046/050 | Batch 020/092 | Loss: 0.10\n",
      "Epoch: 046/050 | Batch 040/092 | Loss: 0.09\n",
      "Epoch: 046/050 | Batch 060/092 | Loss: 0.08\n",
      "Epoch: 046/050 | Batch 080/092 | Loss: 0.04\n",
      "Epoch: 047/050 | Batch 000/092 | Loss: 0.02\n",
      "Epoch: 047/050 | Batch 020/092 | Loss: 0.06\n",
      "Epoch: 047/050 | Batch 040/092 | Loss: 0.03\n",
      "Epoch: 047/050 | Batch 060/092 | Loss: 0.19\n",
      "Epoch: 047/050 | Batch 080/092 | Loss: 0.06\n",
      "Epoch: 048/050 | Batch 000/092 | Loss: 0.07\n",
      "Epoch: 048/050 | Batch 020/092 | Loss: 0.03\n",
      "Epoch: 048/050 | Batch 040/092 | Loss: 0.02\n",
      "Epoch: 048/050 | Batch 060/092 | Loss: 0.04\n",
      "Epoch: 048/050 | Batch 080/092 | Loss: 0.12\n",
      "Epoch: 049/050 | Batch 000/092 | Loss: 0.02\n",
      "Epoch: 049/050 | Batch 020/092 | Loss: 0.07\n",
      "Epoch: 049/050 | Batch 040/092 | Loss: 0.14\n",
      "Epoch: 049/050 | Batch 060/092 | Loss: 0.08\n",
      "Epoch: 049/050 | Batch 080/092 | Loss: 0.04\n",
      "Epoch: 050/050 | Batch 000/092 | Loss: 0.17\n",
      "Epoch: 050/050 | Batch 020/092 | Loss: 0.11\n",
      "Epoch: 050/050 | Batch 040/092 | Loss: 0.00\n",
      "Epoch: 050/050 | Batch 060/092 | Loss: 0.04\n",
      "Epoch: 050/050 | Batch 080/092 | Loss: 0.02\n"
     ]
    }
   ],
   "source": [
    "import torch.nn.functional as F\n",
    "\n",
    "torch.manual_seed(1)\n",
    "model = LogisticRegression(num_features=4)\n",
    "optimizer = torch.optim.SGD(model.parameters(), lr=1e-2)\n",
    "\n",
    "num_epochs = 50\n",
    "\n",
    "for epoch in range(num_epochs):\n",
    "    model = model.train()\n",
    "    for batch_idx, (features, class_labels) in enumerate(train_loader):\n",
    "        probas = model(features)\n",
    "        loss = F.binary_cross_entropy(probas, class_labels.view(probas.shape))\n",
    "        \n",
    "        optimizer.zero_grad()\n",
    "        loss.backward()\n",
    "        optimizer.step()\n",
    "\n",
    "        ### LOGGING\n",
    "        if not batch_idx % 20: # log every 20th batch\n",
    "            print(f'Epoch: {epoch+1:03d}/{num_epochs:03d}'\n",
    "                   f' | Batch {batch_idx:03d}/{len(train_loader):03d}'\n",
    "                   f' | Loss: {loss:.2f}')\n",
    "        "
   ]
  },
  {
   "cell_type": "code",
   "execution_count": 41,
   "id": "7930651b-02e5-4843-8198-b3eae5301e84",
   "metadata": {},
   "outputs": [],
   "source": [
    "def compute_accuracy(model, dataloader):\n",
    "\n",
    "    model = model.eval()\n",
    "    \n",
    "    correct = 0.0\n",
    "    total_examples = 0\n",
    "\n",
    "    for idx, (features, class_labels) in enumerate(dataloader):\n",
    "        with torch.no_grad():\n",
    "            probas = model(features)\n",
    "        pred = torch.where(probas > 0.5, 1, 0)\n",
    "        lab = class_labels.view(pred.shape).to(pred.dtype)\n",
    "\n",
    "        compare = pred == lab\n",
    "        correct += torch.sum(compare)\n",
    "\n",
    "        total_examples += len(compare)\n",
    "\n",
    "    return correct/total_examples"
   ]
  },
  {
   "cell_type": "code",
   "execution_count": 42,
   "id": "7c9c0410-a025-4ebc-a3b1-e0b502382730",
   "metadata": {},
   "outputs": [
    {
     "data": {
      "text/plain": [
       "tensor(0.9854)"
      ]
     },
     "execution_count": 42,
     "metadata": {},
     "output_type": "execute_result"
    }
   ],
   "source": [
    "train_acc = compute_accuracy(model, train_loader)\n",
    "train_acc"
   ]
  },
  {
   "cell_type": "code",
   "execution_count": 43,
   "id": "08fa1d07-5670-45fe-9f94-a3a6ee130daf",
   "metadata": {},
   "outputs": [
    {
     "data": {
      "text/plain": [
       "tensor(0.9964)"
      ]
     },
     "execution_count": 43,
     "metadata": {},
     "output_type": "execute_result"
    }
   ],
   "source": [
    "val_acc = compute_accuracy(model, val_loader)\n",
    "val_acc"
   ]
  }
 ],
 "metadata": {
  "kernelspec": {
   "display_name": "Python 3 (ipykernel)",
   "language": "python",
   "name": "python3"
  },
  "language_info": {
   "codemirror_mode": {
    "name": "ipython",
    "version": 3
   },
   "file_extension": ".py",
   "mimetype": "text/x-python",
   "name": "python",
   "nbconvert_exporter": "python",
   "pygments_lexer": "ipython3",
   "version": "3.10.6"
  }
 },
 "nbformat": 4,
 "nbformat_minor": 5
}
